{
 "cells": [
  {
   "cell_type": "markdown",
   "metadata": {},
   "source": [
    "## Linear regression \n",
    "\n",
    "Our energy consumption for a residential house dataset, \"utility.dat.txt\", shows a linear correlation between the mean monthly temperature in degrees and the number of days when the heating was used. We can apply the linear regression model from the Scikit-learn library and calculate the coefficients of the correlation and the mean squared error. "
   ]
  },
  {
   "cell_type": "markdown",
   "metadata": {},
   "source": [
    "### 1. Importing Python libraries "
   ]
  },
  {
   "cell_type": "code",
   "execution_count": 1,
   "metadata": {},
   "outputs": [],
   "source": [
    "import pandas as pd\n",
    "import numpy as np\n",
    "import matplotlib.pyplot as plt"
   ]
  },
  {
   "cell_type": "markdown",
   "metadata": {},
   "source": [
    "### 2. Importing data\n",
    "\n",
    "To import data into a data frame (df),  we have created a module of reusable functions (functions_library.py), which we can import into the Jupyter notebook. "
   ]
  },
  {
   "cell_type": "code",
   "execution_count": 2,
   "metadata": {},
   "outputs": [
    {
     "data": {
      "text/html": [
       "<div>\n",
       "<style scoped>\n",
       "    .dataframe tbody tr th:only-of-type {\n",
       "        vertical-align: middle;\n",
       "    }\n",
       "\n",
       "    .dataframe tbody tr th {\n",
       "        vertical-align: top;\n",
       "    }\n",
       "\n",
       "    .dataframe thead th {\n",
       "        text-align: right;\n",
       "    }\n",
       "</style>\n",
       "<table border=\"1\" class=\"dataframe\">\n",
       "  <thead>\n",
       "    <tr style=\"text-align: right;\">\n",
       "      <th></th>\n",
       "      <th>temp_month</th>\n",
       "      <th>days_heating</th>\n",
       "    </tr>\n",
       "    <tr>\n",
       "      <th>date</th>\n",
       "      <th></th>\n",
       "      <th></th>\n",
       "    </tr>\n",
       "  </thead>\n",
       "  <tbody>\n",
       "    <tr>\n",
       "      <th>Sep-90</th>\n",
       "      <td>16.67</td>\n",
       "      <td>128</td>\n",
       "    </tr>\n",
       "    <tr>\n",
       "      <th>Oct-90</th>\n",
       "      <td>13.33</td>\n",
       "      <td>299</td>\n",
       "    </tr>\n",
       "    <tr>\n",
       "      <th>Nov-90</th>\n",
       "      <td>7.22</td>\n",
       "      <td>603</td>\n",
       "    </tr>\n",
       "    <tr>\n",
       "      <th>Dec-90</th>\n",
       "      <td>2.78</td>\n",
       "      <td>866</td>\n",
       "    </tr>\n",
       "    <tr>\n",
       "      <th>Jan-91</th>\n",
       "      <td>-2.78</td>\n",
       "      <td>1171</td>\n",
       "    </tr>\n",
       "  </tbody>\n",
       "</table>\n",
       "</div>"
      ],
      "text/plain": [
       "        temp_month  days_heating\n",
       "date                            \n",
       "Sep-90       16.67           128\n",
       "Oct-90       13.33           299\n",
       "Nov-90        7.22           603\n",
       "Dec-90        2.78           866\n",
       "Jan-91       -2.78          1171"
      ]
     },
     "execution_count": 2,
     "metadata": {},
     "output_type": "execute_result"
    }
   ],
   "source": [
    "import functions_library\n",
    "\n",
    "filename = '../data/utility.dat.txt'\n",
    "df = functions_library.read_input(filename)\n",
    "\n",
    "#selecting x and y columns \n",
    "df_monthly_temp = df[['temp_month','days_heating']]\n",
    "\n",
    "df_monthly_temp.head(5)"
   ]
  },
  {
   "cell_type": "markdown",
   "metadata": {},
   "source": [
    "### 3. Preparing training and testing data sets\n",
    "\n",
    "75% of the input data is included in the training data set and 25% is part of the testing data set. Both, the train and the test data sets are organized as matrixes, or 2D NumPy arrays, required by the Scikit learn .fit() method. We can use the NumPy .reshape() function to change the dimension of the arrays and check the result using ndarray.shape(). The 2D array will be displayed as a tuple of two integers, each indicating the number of elements stored in each dimension of the array. For example, the training data set is a NumPy array of 1 column and 61 rows. "
   ]
  },
  {
   "cell_type": "code",
   "execution_count": 3,
   "metadata": {},
   "outputs": [
    {
     "name": "stdout",
     "output_type": "stream",
     "text": [
      "Training dataset...\n",
      "(61, 1)\n",
      "Testing dataset...\n",
      "(20, 1)\n"
     ]
    }
   ],
   "source": [
    "#split the data into X and y components\n",
    "monthly_temp_X = df_monthly_temp['temp_month'].values\n",
    "monthly_temp_y = df_monthly_temp['days_heating'].values\n",
    "\n",
    "#split the data into training and testing sets\n",
    "monthly_temp_X_train = monthly_temp_X[:-20].reshape(-1,1)\n",
    "monthly_temp_X_test = monthly_temp_X[-20:].reshape(-1,1)\n",
    "\n",
    "#split the targets into training and testing sets\n",
    "monthly_temp_y_train = monthly_temp_y[:-20].reshape(-1,1)\n",
    "monthly_temp_y_test = monthly_temp_y[-20:].reshape(-1,1)\n",
    "\n",
    "print('Training dataset...')\n",
    "print(monthly_temp_X_train.shape)\n",
    "print('Testing dataset...')\n",
    "print(monthly_temp_X_test.shape)"
   ]
  },
  {
   "cell_type": "markdown",
   "metadata": {},
   "source": [
    "### 4. Creating a linear regression model "
   ]
  },
  {
   "cell_type": "code",
   "execution_count": 4,
   "metadata": {},
   "outputs": [],
   "source": [
    "from sklearn import linear_model\n",
    "\n",
    "#create linear regression object\n",
    "regr = linear_model.LinearRegression()\n",
    "\n",
    "#train the model using the training set\n",
    "regr.fit(monthly_temp_X_train, monthly_temp_y_train)\n",
    "\n",
    "#predict using the testing set\n",
    "monthly_temp_y_pred = regr.predict(monthly_temp_X_test)"
   ]
  },
  {
   "cell_type": "markdown",
   "metadata": {},
   "source": [
    "### 5. Calculating the coefficients and errors of the model "
   ]
  },
  {
   "cell_type": "code",
   "execution_count": 5,
   "metadata": {},
   "outputs": [
    {
     "name": "stdout",
     "output_type": "stream",
     "text": [
      "Coefficients: [[-43.32042001]] [912.17103421]\n",
      "Mean squared error: 3927.98\n",
      "Coefficient of determination: 0.97\n",
      "0.9717879399365238\n"
     ]
    }
   ],
   "source": [
    "from sklearn.metrics import mean_squared_error, r2_score\n",
    "\n",
    "print('Coefficients:', regr.coef_, regr.intercept_)\n",
    "\n",
    "print('Mean squared error: %.2f' % mean_squared_error(monthly_temp_y_test, monthly_temp_y_pred))\n",
    "\n",
    "# The coefficient of determination: 1 is perfect prediction\n",
    "print('Coefficient of determination: %.2f'\n",
    "      % r2_score(monthly_temp_y_test, monthly_temp_y_pred))\n",
    "\n",
    "print(regr.score(monthly_temp_X_test, monthly_temp_y_test ))"
   ]
  },
  {
   "cell_type": "markdown",
   "metadata": {},
   "source": [
    "### 6. Plotting the linear regression"
   ]
  },
  {
   "cell_type": "code",
   "execution_count": 6,
   "metadata": {},
   "outputs": [
    {
     "data": {
      "image/png": "[encoded data removed]",
      "text/plain": [
       "<Figure size 432x288 with 1 Axes>"
      ]
     },
     "metadata": {
      "needs_background": "light"
     },
     "output_type": "display_data"
    }
   ],
   "source": [
    "plt.scatter(monthly_temp_X_test, monthly_temp_y_test,  color='black')\n",
    "plt.plot(monthly_temp_X_test, monthly_temp_y_pred, color='blue', linewidth=3)\n",
    "\n",
    "plt.title('Number of days .vs. the mean monthly temperature')\n",
    "plt.ylabel('Number of days with heating')\n",
    "plt.xlabel('Mean monthly temperature')\n",
    "plt.show()"
   ]
  },
  {
   "cell_type": "markdown",
   "metadata": {},
   "source": [
    "### 7. Exploring the training dataset"
   ]
  },
  {
   "cell_type": "code",
   "execution_count": 7,
   "metadata": {},
   "outputs": [
    {
     "data": {
      "image/png": "[encoded data removed]",
      "text/plain": [
       "<Figure size 432x288 with 1 Axes>"
      ]
     },
     "metadata": {
      "needs_background": "light"
     },
     "output_type": "display_data"
    }
   ],
   "source": [
    "monthly_temp_y_train_pred = regr.predict(monthly_temp_X_train)\n",
    "\n",
    "plt.scatter(monthly_temp_X_train, monthly_temp_y_train,  color='black')\n",
    "plt.plot(monthly_temp_X_train, monthly_temp_y_train_pred, color='blue', linewidth=3)\n",
    "\n",
    "plt.title('Number of days .vs. the mean monthly temperature')\n",
    "plt.ylabel('Number of days with heating')\n",
    "plt.xlabel('Mean monthly temperature')\n",
    "plt.show()"
   ]
  }
 ],
 "metadata": {
  "kernelspec": {
   "display_name": "Python 3",
   "language": "python",
   "name": "python3"
  },
  "language_info": {
   "codemirror_mode": {
    "name": "ipython",
    "version": 3
   },
   "file_extension": ".py",
   "mimetype": "text/x-python",
   "name": "python",
   "nbconvert_exporter": "python",
   "pygments_lexer": "ipython3",
   "version": "3.7.4"
  }
 },
 "nbformat": 4,
 "nbformat_minor": 4
}
