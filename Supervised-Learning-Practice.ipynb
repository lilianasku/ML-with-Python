{
 "cells": [
  {
   "cell_type": "markdown",
   "metadata": {},
   "source": [
    "## Supervised machine learning with Scikit-learn\n",
    "\n",
    "This notebook servs as a practice for the main sckit-learn tools for machine learning and statsitical modelling. \n",
    "\n",
    "I will use the \"utility.dat.txt\" file from the\n",
    "<a href=\" http://jse.amstat.org/jse_data_archive.htm\"> Journal of Statistics education</a> datasets, containing energy consumption of a residential house. The energy consumption is linked to the\n",
    "outdoor temperature and size of the house. For a home of a fixed size, we can predict variations in energy consumption with outside temperature over time. If we add new rooms to the house, we expect that electricity usage will increase. We can also explore relations between different variables in this data set and predict the energy demand for the following months. "
   ]
  },
  {
   "cell_type": "markdown",
   "metadata": {},
   "source": [
    "### 1. Exploratory data analysis "
   ]
  },
  {
   "cell_type": "code",
   "execution_count": 1,
   "metadata": {},
   "outputs": [],
   "source": [
    "#importing libraries\n",
    "import pandas as pd\n",
    "import numpy as np\n",
    "import matplotlib.pyplot as plt\n",
    "from datetime import datetime"
   ]
  },
  {
   "cell_type": "code",
   "execution_count": 2,
   "metadata": {},
   "outputs": [
    {
     "name": "stdout",
     "output_type": "stream",
     "text": [
      "        day_in_month  temp_month gas_usage_day terms_month billing_days_gc  \\\n",
      "date                                                                         \n",
      "Sep-90            30          62           0.8          24              30   \n",
      "Oct-90            31          56           2.1          61              29   \n",
      "Nov-90            30          45           4.9         159              32   \n",
      "Dec-90            31          37           6.1         185              30   \n",
      "Jan-91            31          27           8.3         275              33   \n",
      "\n",
      "        kilowatt_total  kilowatt_day  billing_days_ec  kwh  days_heating  \\\n",
      "date                                                                       \n",
      "Sep-90             432          14.4               30    0           128   \n",
      "Oct-90             469          15.6               30    1           299   \n",
      "Nov-90             339          10.6               32    0           603   \n",
      "Dec-90             408          14.1               29    1           866   \n",
      "Jan-91             658          21.9               30    0          1171   \n",
      "\n",
      "        days_cooling  nroom  \n",
      "date                         \n",
      "Sep-90            48      0  \n",
      "Oct-90            26      0  \n",
      "Nov-90             3      0  \n",
      "Dec-90             0      0  \n",
      "Jan-91             0      0  \n"
     ]
    }
   ],
   "source": [
    "#importing \"utility\" data set\n",
    "file ='Data/utility.dat.txt'\n",
    "\n",
    "#defining column names\n",
    "column_names=['date', 'day_in_month', 'temp_month', 'gas_usage_day','terms_month', \n",
    "              'billing_days_gc', 'kilowatt_total', 'kilowatt_day', 'billing_days_ec', \n",
    "              'kwh', 'days_heating', 'days_cooling', 'nroom']\n",
    "\n",
    "#creating dataframe with 12 columns and date as an index column\n",
    "df= pd.read_csv(file, header=None, \n",
    "               sep='\\s+',\n",
    "               names=column_names,\n",
    "               index_col='date')  \n",
    "                \n",
    "#printing the first lines of the dataframe df\n",
    "print(df.head(5))"
   ]
  },
  {
   "cell_type": "code",
   "execution_count": 3,
   "metadata": {},
   "outputs": [
    {
     "name": "stdout",
     "output_type": "stream",
     "text": [
      "day_in_month         int64\n",
      "temp_month           int64\n",
      "gas_usage_day       object\n",
      "terms_month         object\n",
      "billing_days_gc     object\n",
      "kilowatt_total       int64\n",
      "kilowatt_day       float64\n",
      "billing_days_ec      int64\n",
      "kwh                  int64\n",
      "days_heating         int64\n",
      "days_cooling         int64\n",
      "nroom                int64\n",
      "dtype: object\n"
     ]
    }
   ],
   "source": [
    "#displaying column types\n",
    "print(df.dtypes)"
   ]
  },
  {
   "cell_type": "code",
   "execution_count": 4,
   "metadata": {},
   "outputs": [
    {
     "name": "stdout",
     "output_type": "stream",
     "text": [
      "<class 'pandas.core.frame.DataFrame'>\n",
      "Index: 81 entries, Sep-90 to May-97\n",
      "Data columns (total 12 columns):\n",
      " #   Column           Non-Null Count  Dtype  \n",
      "---  ------           --------------  -----  \n",
      " 0   day_in_month     81 non-null     int64  \n",
      " 1   temp_month       81 non-null     int64  \n",
      " 2   gas_usage_day    81 non-null     object \n",
      " 3   terms_month      81 non-null     object \n",
      " 4   billing_days_gc  81 non-null     object \n",
      " 5   kilowatt_total   81 non-null     int64  \n",
      " 6   kilowatt_day     81 non-null     float64\n",
      " 7   billing_days_ec  81 non-null     int64  \n",
      " 8   kwh              81 non-null     int64  \n",
      " 9   days_heating     81 non-null     int64  \n",
      " 10  days_cooling     81 non-null     int64  \n",
      " 11  nroom            81 non-null     int64  \n",
      "dtypes: float64(1), int64(8), object(3)\n",
      "memory usage: 8.2+ KB\n",
      "None\n"
     ]
    }
   ],
   "source": [
    "#displaying df infos\n",
    "print(df.info())"
   ]
  },
  {
   "cell_type": "code",
   "execution_count": 5,
   "metadata": {},
   "outputs": [
    {
     "data": {
      "text/plain": [
       "Text(0, 0.5, 'Mean monthly temperature (F)')"
      ]
     },
     "execution_count": 5,
     "metadata": {},
     "output_type": "execute_result"
    },
    {
     "data": {
      "image/png": "[encoded data removed]",
      "text/plain": [
       "<Figure size 432x288 with 1 Axes>"
      ]
     },
     "metadata": {
      "needs_background": "light"
     },
     "output_type": "display_data"
    }
   ],
   "source": [
    "#plotting energy consumption v.s. temperature \n",
    "plt.scatter(df['temp_month'], df['kilowatt_total'])\n",
    "plt.xlabel('Number of Kilowatt hours per month')\n",
    "plt.ylabel('Mean monthly temperature (F)')"
   ]
  },
  {
   "cell_type": "code",
   "execution_count": null,
   "metadata": {},
   "outputs": [],
   "source": []
  }
 ],
 "metadata": {
  "kernelspec": {
   "display_name": "Python 3",
   "language": "python",
   "name": "python3"
  },
  "language_info": {
   "codemirror_mode": {
    "name": "ipython",
    "version": 3
   },
   "file_extension": ".py",
   "mimetype": "text/x-python",
   "name": "python",
   "nbconvert_exporter": "python",
   "pygments_lexer": "ipython3",
   "version": "3.7.4"
  }
 },
 "nbformat": 4,
 "nbformat_minor": 4
}
